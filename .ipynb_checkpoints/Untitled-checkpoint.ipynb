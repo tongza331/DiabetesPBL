{
 "cells": [
  {
   "cell_type": "code",
   "execution_count": 25,
   "id": "79590f38",
   "metadata": {},
   "outputs": [],
   "source": [
    "import os\n",
    "import glob as gb\n",
    "import pandas as pd"
   ]
  },
  {
   "cell_type": "code",
   "execution_count": 26,
   "id": "ad8a9d9d",
   "metadata": {},
   "outputs": [],
   "source": [
    "root_dir = './PBL_data/data_0/71_sensing_data/71_sensing_data/'\n",
    "folder_name = []\n",
    "for folder in os.listdir(root_dir):\n",
    "    folder2 = gb.glob(root_dir+folder)\n",
    "    for inner_folder in folder2:\n",
    "        temp = inner_folder[-17:]\n",
    "        folder_name.append(temp)"
   ]
  },
  {
   "cell_type": "code",
   "execution_count": 27,
   "id": "5b82c336",
   "metadata": {},
   "outputs": [
    {
     "data": {
      "text/plain": [
       "['cefoxSR1601000701',\n",
       " 'cefoxSR1601005001',\n",
       " 'cefoxSR1601005301',\n",
       " 'cefoxSR1601005701',\n",
       " 'cefoxSR1707003501',\n",
       " 'cefoxSR1707003701',\n",
       " 'cefoxSR1707004101',\n",
       " 'cefoxSR1707004201',\n",
       " 'cefoxSR1707004301',\n",
       " 'cefoxSR1707004401',\n",
       " 'cefoxSR1707004501',\n",
       " 'cefoxSR1707004601',\n",
       " 'cefoxSR1707004701',\n",
       " 'cefoxSR1707004801',\n",
       " 'cefoxSR1707004901',\n",
       " 'cefoxSR1707005101',\n",
       " 'cefoxSR1707005601']"
      ]
     },
     "execution_count": 27,
     "metadata": {},
     "output_type": "execute_result"
    }
   ],
   "source": [
    "folder_name"
   ]
  },
  {
   "cell_type": "code",
   "execution_count": 28,
   "id": "cccb5d70",
   "metadata": {
    "scrolled": true
   },
   "outputs": [],
   "source": [
    "# for index_file in range(len(folder_name)):\n",
    "#     for file in os.listdir(folder_name[index_file]):\n",
    "#         keyword = '_weight'\n",
    "#         temp_str = str(file)\n",
    "#         if keyword in temp_str:\n",
    "#             print(temp_str)"
   ]
  },
  {
   "cell_type": "code",
   "execution_count": 44,
   "id": "e1664462",
   "metadata": {},
   "outputs": [
    {
     "ename": "NameError",
     "evalue": "name 'foler_name' is not defined",
     "output_type": "error",
     "traceback": [
      "\u001b[1;31m---------------------------------------------------------------------------\u001b[0m",
      "\u001b[1;31mNameError\u001b[0m                                 Traceback (most recent call last)",
      "\u001b[1;32m~\\AppData\\Local\\Temp\\ipykernel_20164\\1993868664.py\u001b[0m in \u001b[0;36m<cell line: 1>\u001b[1;34m()\u001b[0m\n\u001b[0;32m      1\u001b[0m \u001b[1;32mfor\u001b[0m \u001b[0mfolder\u001b[0m \u001b[1;32min\u001b[0m \u001b[0mos\u001b[0m\u001b[1;33m.\u001b[0m\u001b[0mlistdir\u001b[0m\u001b[1;33m(\u001b[0m\u001b[0mroot_dir\u001b[0m\u001b[1;33m)\u001b[0m\u001b[1;33m:\u001b[0m\u001b[1;33m\u001b[0m\u001b[1;33m\u001b[0m\u001b[0m\n\u001b[1;32m----> 2\u001b[1;33m     \u001b[1;32mfor\u001b[0m \u001b[0mname\u001b[0m \u001b[1;32min\u001b[0m \u001b[0mfoler_name\u001b[0m\u001b[1;33m:\u001b[0m\u001b[1;33m\u001b[0m\u001b[1;33m\u001b[0m\u001b[0m\n\u001b[0m\u001b[0;32m      3\u001b[0m         \u001b[0mfolder2\u001b[0m \u001b[1;33m=\u001b[0m \u001b[0mgb\u001b[0m\u001b[1;33m.\u001b[0m\u001b[0mglob\u001b[0m\u001b[1;33m(\u001b[0m\u001b[0mroot_dir\u001b[0m\u001b[1;33m+\u001b[0m\u001b[0mfolder\u001b[0m\u001b[1;33m+\u001b[0m\u001b[0mfolder_name\u001b[0m\u001b[1;33m)\u001b[0m\u001b[1;33m\u001b[0m\u001b[1;33m\u001b[0m\u001b[0m\n\u001b[0;32m      4\u001b[0m         \u001b[0mprint\u001b[0m\u001b[1;33m(\u001b[0m\u001b[0mfolder2\u001b[0m\u001b[1;33m)\u001b[0m\u001b[1;33m\u001b[0m\u001b[1;33m\u001b[0m\u001b[0m\n",
      "\u001b[1;31mNameError\u001b[0m: name 'foler_name' is not defined"
     ]
    }
   ],
   "source": [
    "for folder in os.listdir(root_dir):\n",
    "    for name in folder_name:\n",
    "        folder2 = gb.glob(root_dir+folder+folder_name)\n",
    "        print(folder2)"
   ]
  },
  {
   "cell_type": "code",
   "execution_count": null,
   "id": "7b48eb2f",
   "metadata": {},
   "outputs": [],
   "source": []
  }
 ],
 "metadata": {
  "kernelspec": {
   "display_name": "TF2.4",
   "language": "python",
   "name": "tf2.4"
  },
  "language_info": {
   "codemirror_mode": {
    "name": "ipython",
    "version": 3
   },
   "file_extension": ".py",
   "mimetype": "text/x-python",
   "name": "python",
   "nbconvert_exporter": "python",
   "pygments_lexer": "ipython3",
   "version": "3.8.0"
  }
 },
 "nbformat": 4,
 "nbformat_minor": 5
}
